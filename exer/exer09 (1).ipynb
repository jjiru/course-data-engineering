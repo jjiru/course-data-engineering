{
 "cells": [
  {
   "cell_type": "code",
   "execution_count": 7,
   "id": "2dcaa0cb-868b-4d00-bb00-dd0ffa2605b4",
   "metadata": {},
   "outputs": [],
   "source": [
    "import numpy as np"
   ]
  },
  {
   "cell_type": "code",
   "execution_count": 9,
   "id": "57fcba0c-16a0-441b-a657-cc4718eca41b",
   "metadata": {},
   "outputs": [],
   "source": [
    "def compute_reciprocals(values):\n",
    "    output = np.empty(len(values))\n",
    "    for i in range(len(values)):\n",
    "        output[i]= 1.0/ values[i]\n",
    "    return output    \n",
    "    "
   ]
  },
  {
   "cell_type": "code",
   "execution_count": 12,
   "id": "52fdcd94-01aa-4488-94d2-929ae8e67042",
   "metadata": {},
   "outputs": [
    {
     "name": "stdout",
     "output_type": "stream",
     "text": [
      "4.71 s ± 536 ms per loop (mean ± std. dev. of 7 runs, 1 loop each)\n"
     ]
    }
   ],
   "source": [
    "\"\"\"\n",
    "Loop vs ufuncs\n",
    "\"\"\"\n",
    "\n",
    "big_array = np.random.randint(1,100,size=1000000)\n",
    "\n",
    "%timeit compute_reciprocals(big_array)"
   ]
  },
  {
   "cell_type": "code",
   "execution_count": 14,
   "id": "c2043c20-a071-4a37-800d-5a496b99fd07",
   "metadata": {},
   "outputs": [
    {
     "name": "stdout",
     "output_type": "stream",
     "text": [
      "8.76 ms ± 601 µs per loop (mean ± std. dev. of 7 runs, 100 loops each)\n"
     ]
    }
   ],
   "source": [
    "%timeit 1/big_array"
   ]
  },
  {
   "cell_type": "code",
   "execution_count": 18,
   "id": "3c2b694d-8c39-4a2d-9c16-52b5db8678ff",
   "metadata": {},
   "outputs": [
    {
     "name": "stdout",
     "output_type": "stream",
     "text": [
      "[5 8 9 5 0] [0 1 7 6 9]\n",
      "[ 3  6  7  3 -2]\n",
      "[ 3  7 14  9  7]\n",
      "[[2 4 5 2 4]\n",
      " [2 4 7 7 9]\n",
      " [1 7 0 6 9]]\n",
      "[[ 4 16 25  4 16]\n",
      " [ 4 16 49 49 81]\n",
      " [ 1 49  0 36 81]]\n"
     ]
    }
   ],
   "source": [
    "np.random.seed(1)\n",
    "arr_1=np.random.randint(10,size=(5))\n",
    "arr_2=np.random.randint(10,size=(5))\n",
    "print(arr_1,arr_2)\n",
    "\n",
    "arr_1 = arr_1 - 2\n",
    "print(arr_1)\n",
    "\n",
    "arr_3= arr_1 + arr_2\n",
    "print(arr_3)\n",
    "\n",
    "arr_4 = np.random.randint(10,size=(3,5))\n",
    "print(arr_4)\n",
    "\n",
    "arr_5 = arr_4 ** 2\n",
    "print(arr_5)\n"
   ]
  },
  {
   "cell_type": "code",
   "execution_count": 21,
   "id": "97ff5559-47c5-4ebf-8361-6cb7b144bb56",
   "metadata": {},
   "outputs": [
    {
     "name": "stdout",
     "output_type": "stream",
     "text": [
      "[0 1 2 3]\n",
      "[2 3 4 5]\n",
      "[-3 -2 -1  0]\n",
      "[0 2 4 6]\n",
      "[0.         0.33333333 0.66666667 1.        ]\n",
      "[0 2 4 6]\n"
     ]
    }
   ],
   "source": [
    "x=np.arange(4)\n",
    "print(x)\n",
    "print(x+2)\n",
    "print(x-3)\n",
    "print(x*2)\n",
    "print(x/3)\n",
    "print(x*2)"
   ]
  },
  {
   "cell_type": "code",
   "execution_count": 27,
   "id": "b16e406a-6f93-43ce-9901-f9edbc9fd06b",
   "metadata": {},
   "outputs": [
    {
     "name": "stdout",
     "output_type": "stream",
     "text": [
      "[2 1 0 1 2]\n",
      "[5. 5. 2. 1.]\n"
     ]
    }
   ],
   "source": [
    "x = np.array([-2, -1, 0, 1, 2])\n",
    "print (np.abs(x))\n",
    "            \n",
    "x = np.array([3-4j, 4-3j, 2+0j, 0+1j])\n",
    "print(np.abs(x))\n",
    "        "
   ]
  },
  {
   "cell_type": "code",
   "execution_count": 32,
   "id": "c88b0849-600a-43dd-bd7c-77f5c5019990",
   "metadata": {},
   "outputs": [
    {
     "name": "stdout",
     "output_type": "stream",
     "text": [
      "[0.         1.57079633 3.14159265]\n",
      "[0.0000000e+00 1.0000000e+00 1.2246468e-16]\n",
      "[ 1.000000e+00  6.123234e-17 -1.000000e+00]\n",
      "[ 0.00000000e+00  1.63312394e+16 -1.22464680e-16]\n"
     ]
    }
   ],
   "source": [
    "theta = np.linspace(0, np.pi, 3)\n",
    "print(theta)\n",
    "print(np.sin(theta))\n",
    "print(np.cos(theta))\n",
    "print(np.tan(theta))"
   ]
  },
  {
   "cell_type": "code",
   "execution_count": 48,
   "id": "2a8311ed-66c8-4f2f-b80f-c7e4d3e838b4",
   "metadata": {},
   "outputs": [
    {
     "name": "stdout",
     "output_type": "stream",
     "text": [
      "[1 2 3 4 5]\n",
      "15\n",
      "120\n"
     ]
    }
   ],
   "source": [
    "x = np.arange(1,6)\n",
    "print(x)\n",
    "\n",
    "ag=np.add.reduce(x)\n",
    "print(ag)\n",
    "\n",
    "ag = np.multiply.reduce(x)\n",
    "print(ag)"
   ]
  },
  {
   "cell_type": "code",
   "execution_count": 50,
   "id": "cd582545-1fcc-4763-ab1e-c8237be0f009",
   "metadata": {},
   "outputs": [
    {
     "name": "stdout",
     "output_type": "stream",
     "text": [
      "[1 2 3 4 5]\n",
      "[ 1  3  6 10 15]\n",
      "[  1   2   6  24 120]\n"
     ]
    }
   ],
   "source": [
    "#accumulate\n",
    "\n",
    "x = np.arange(1,6)\n",
    "print(x)\n",
    "\n",
    "ag=np.add.accumulate(x)\n",
    "print(ag)\n",
    "\n",
    "ag = np.multiply.accumulate(x)\n",
    "print(ag)"
   ]
  },
  {
   "cell_type": "code",
   "execution_count": 54,
   "id": "33f0ca1d-ba1e-4600-8814-d94f90a2d458",
   "metadata": {
    "tags": []
   },
   "outputs": [
    {
     "name": "stdout",
     "output_type": "stream",
     "text": [
      "47.934404882589284\n",
      "17.3 µs ± 1.53 µs per loop (mean ± std. dev. of 7 runs, 100000 loops each)\n"
     ]
    }
   ],
   "source": [
    "np.random.seed(3)\n",
    "\n",
    "arr = np.random.rand(100)\n",
    "print(np.sum(arr))\n",
    "%timeit sum(arr)"
   ]
  },
  {
   "cell_type": "code",
   "execution_count": 56,
   "id": "9c1c598e-a1ed-4206-b4a4-4bd2258a3284",
   "metadata": {
    "tags": []
   },
   "outputs": [
    {
     "name": "stdout",
     "output_type": "stream",
     "text": [
      "10 µs ± 662 ns per loop (mean ± std. dev. of 7 runs, 100000 loops each)\n"
     ]
    }
   ],
   "source": [
    "%timeit np.sum(arr)"
   ]
  },
  {
   "cell_type": "code",
   "execution_count": 58,
   "id": "1a09492d-a3d3-4312-95c2-07659e9016dc",
   "metadata": {
    "tags": []
   },
   "outputs": [
    {
     "name": "stdout",
     "output_type": "stream",
     "text": [
      "False\n",
      "False\n",
      "0.9759954224729338\n"
     ]
    }
   ],
   "source": [
    "print(np.any(arr>1)) \n",
    "print(np.all(arr<0))\n",
    "print(np.max(arr))"
   ]
  },
  {
   "cell_type": "code",
   "execution_count": 63,
   "id": "68d43980-998e-4d76-8ed7-10e60aa0f05d",
   "metadata": {},
   "outputs": [
    {
     "name": "stdout",
     "output_type": "stream",
     "text": [
      "[[3 6 6 0]\n",
      " [9 8 4 7]\n",
      " [0 0 7 1]]\n",
      "[12 14 17  8]\n",
      "[15 28  8]\n"
     ]
    }
   ],
   "source": [
    "np.random.seed(5)\n",
    "arr = np.random.randint(10,size=(3,4))\n",
    "print(arr)\n",
    "print(np.sum(arr,axis=0))\n",
    "print(np.sum(arr,axis=1))"
   ]
  }
 ],
 "metadata": {
  "kernelspec": {
   "display_name": "Python 3",
   "language": "python",
   "name": "python3"
  },
  "language_info": {
   "codemirror_mode": {
    "name": "ipython",
    "version": 3
   },
   "file_extension": ".py",
   "mimetype": "text/x-python",
   "name": "python",
   "nbconvert_exporter": "python",
   "pygments_lexer": "ipython3",
   "version": "3.8.8"
  }
 },
 "nbformat": 4,
 "nbformat_minor": 5
}
