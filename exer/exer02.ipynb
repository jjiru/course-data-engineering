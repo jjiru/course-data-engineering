{
 "cells": [
  {
   "cell_type": "code",
   "execution_count": 4,
   "id": "a9584447-8230-4bf5-b8f4-5db0b3242d1a",
   "metadata": {},
   "outputs": [
    {
     "name": "stdout",
     "output_type": "stream",
     "text": [
      "<class 'bool'>\n",
      "<class 'int'>\n"
     ]
    }
   ],
   "source": [
    " \"\"\"\n",
    " boolean variables\n",
    " \"\"\"\n",
    "    \n",
    "is_testes = False\n",
    "print(type(is_testes))\n",
    "\n",
    "a = 3\n",
    "print(type(a))"
   ]
  },
  {
   "cell_type": "code",
   "execution_count": 16,
   "id": "adcd44dd-4dc3-4949-bd6b-9095268e8416",
   "metadata": {},
   "outputs": [
    {
     "name": "stdout",
     "output_type": "stream",
     "text": [
      "말티푸\n",
      "True\n"
     ]
    }
   ],
   "source": [
    "\"\"\"\n",
    "Conditional statements (if / elif/ else)\n",
    "\"\"\"\n",
    "\n",
    "puppy = \"maltepoo\"\n",
    "is_yes = False\n",
    "\n",
    "if puppy == \"maltese\":\n",
    "    print(\"말티즈\")\n",
    "    is_yes = True\n",
    "    \n",
    "elif puppy == \"poodle\":\n",
    "    print(\"푸들\")\n",
    "    is_yes = True\n",
    "    \n",
    "else:\n",
    "    print(\"말티푸\")\n",
    "    is_yes = True\n",
    "    \n",
    "print(is_yes)\n"
   ]
  },
  {
   "cell_type": "code",
   "execution_count": 18,
   "id": "4b6d8e9c-b120-412a-9918-62db6e878122",
   "metadata": {},
   "outputs": [
    {
     "name": "stdout",
     "output_type": "stream",
     "text": [
      "[Eror]\n",
      "continue\n"
     ]
    }
   ],
   "source": [
    "\"\"\"\n",
    "Exception Handling\n",
    "\"\"\"\n",
    "\n",
    "x = 1\n",
    "try:\n",
    "    print(y)\n",
    "    print(x)\n",
    "    \n",
    "except:\n",
    "    print('[Eror]')\n",
    "    \n",
    "print('continue')"
   ]
  }
 ],
 "metadata": {
  "kernelspec": {
   "display_name": "Python 3",
   "language": "python",
   "name": "python3"
  },
  "language_info": {
   "codemirror_mode": {
    "name": "ipython",
    "version": 3
   },
   "file_extension": ".py",
   "mimetype": "text/x-python",
   "name": "python",
   "nbconvert_exporter": "python",
   "pygments_lexer": "ipython3",
   "version": "3.8.8"
  }
 },
 "nbformat": 4,
 "nbformat_minor": 5
}
