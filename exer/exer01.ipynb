{
 "cells": [
  {
   "cell_type": "code",
   "execution_count": 1,
   "id": "1d871309-d2d6-4c95-ab31-5ddb661e90ca",
   "metadata": {},
   "outputs": [],
   "source": [
    "import numpy"
   ]
  },
  {
   "cell_type": "code",
   "execution_count": 2,
   "id": "3fb6fcc8-21a0-49da-b1b0-ee482a48f463",
   "metadata": {},
   "outputs": [
    {
     "name": "stdout",
     "output_type": "stream",
     "text": [
      "Hello World!\n"
     ]
    }
   ],
   "source": [
    "print(\"Hello World!\")"
   ]
  },
  {
   "cell_type": "code",
   "execution_count": 5,
   "id": "948e42bf-ea30-4a3d-8401-856962c80636",
   "metadata": {},
   "outputs": [
    {
     "name": "stdout",
     "output_type": "stream",
     "text": [
      "Hello World!\n",
      "Hello World\n",
      "100\n",
      "3.14\n",
      "my name is JIN WOO\n"
     ]
    }
   ],
   "source": [
    "print(\"Hello World!\")\n",
    "\n",
    "\n",
    "\"\"\"\n",
    "print() function\n",
    "\"\"\"\n",
    "\n",
    "print(\"Hello World\")\n",
    "print(100)\n",
    "pi = 3.14\n",
    "print(pi)\n",
    "\n",
    "intro = \"my name is \"\n",
    "name = \"JIN WOO\"\n",
    "print(intro + name)"
   ]
  },
  {
   "cell_type": "code",
   "execution_count": 11,
   "id": "65a45adb-40e8-478f-840e-0d78ec0e22c4",
   "metadata": {},
   "outputs": [],
   "source": [
    "\"\"\"\n",
    "Variables\n",
    "\"\"\"\n",
    "\n",
    "user_name = \"Jin Woo\"\n",
    "user_age = 25\n",
    "user_height = 178\n",
    "user_weight = 80"
   ]
  },
  {
   "cell_type": "code",
   "execution_count": 12,
   "id": "731a1bf5-0f57-4d9a-a376-a985c4380267",
   "metadata": {},
   "outputs": [],
   "source": [
    "\"\"\"\n",
    "Data Types Integers\n",
    "\"\"\"\n",
    "\n",
    "desks = 6\n",
    "tv = 1\n",
    "broken_mirror = -1\n",
    "doors = 5"
   ]
  },
  {
   "cell_type": "code",
   "execution_count": 13,
   "id": "0de2bfa2-0caa-4c97-bde8-aae0f420bb84",
   "metadata": {},
   "outputs": [],
   "source": [
    "\"\"\"\n",
    "Data Types Real Numbers\n",
    "\"\"\"\n",
    "\n",
    "my_height = 178.6\n",
    "my_result = 98.8\n",
    "marathon_course = 42.195"
   ]
  },
  {
   "cell_type": "code",
   "execution_count": 16,
   "id": "f881f6e2-ed53-4c53-807f-ac58ce35cb35",
   "metadata": {},
   "outputs": [
    {
     "name": "stdout",
     "output_type": "stream",
     "text": [
      "Han Shin University meet health\n"
     ]
    }
   ],
   "source": [
    "\"\"\"\n",
    "Data Types Strings\n",
    "\"\"\"\n",
    "\n",
    "my_university = \"Han Shin University \"\n",
    "my_favorite_food = 'meet '\n",
    "my_hobby = 'health'\n",
    "\n",
    "add = my_university + my_favorite_food + my_hobby\n",
    "print(add)"
   ]
  },
  {
   "cell_type": "code",
   "execution_count": 1,
   "id": "929d994c-df69-461b-8adb-64cdab387e87",
   "metadata": {},
   "outputs": [
    {
     "name": "stdout",
     "output_type": "stream",
     "text": [
      "4.0\n"
     ]
    }
   ],
   "source": [
    "\"\"\"\n",
    "Plus Equals Operations\n",
    "\"\"\"\n",
    "\n",
    "a = 8\n",
    "a /= 2\n",
    "print(a)"
   ]
  },
  {
   "cell_type": "code",
   "execution_count": null,
   "id": "ad879bc7-b6ae-4f2f-9739-bf9a73ae8330",
   "metadata": {},
   "outputs": [],
   "source": []
  }
 ],
 "metadata": {
  "kernelspec": {
   "display_name": "Python 3",
   "language": "python",
   "name": "python3"
  },
  "language_info": {
   "codemirror_mode": {
    "name": "ipython",
    "version": 3
   },
   "file_extension": ".py",
   "mimetype": "text/x-python",
   "name": "python",
   "nbconvert_exporter": "python",
   "pygments_lexer": "ipython3",
   "version": "3.8.8"
  }
 },
 "nbformat": 4,
 "nbformat_minor": 5
}
