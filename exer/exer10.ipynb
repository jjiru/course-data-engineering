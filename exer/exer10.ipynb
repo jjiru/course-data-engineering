{
 "cells": [
  {
   "cell_type": "code",
   "execution_count": 2,
   "id": "a7b5621a-4f8c-48ac-adc2-62f0680e5d19",
   "metadata": {},
   "outputs": [],
   "source": [
    "import numpy as np"
   ]
  },
  {
   "cell_type": "code",
   "execution_count": 6,
   "id": "09af7b8c-c6d4-46f8-bbfe-1f11d814c232",
   "metadata": {},
   "outputs": [
    {
     "name": "stdout",
     "output_type": "stream",
     "text": [
      "[[1. 1. 1.]\n",
      " [1. 1. 1.]\n",
      " [1. 1. 1.]]\n",
      "[0 1 2]\n",
      "[[1. 2. 3.]\n",
      " [1. 2. 3.]\n",
      " [1. 2. 3.]]\n"
     ]
    }
   ],
   "source": [
    "\"\"\"\n",
    "1D+2D arrays\n",
    "\"\"\"\n",
    "\n",
    "a=np.ones((3,3))\n",
    "print(a)\n",
    "\n",
    "b=np.arange(3)\n",
    "print(b)\n",
    "\n",
    "print(a+b)"
   ]
  },
  {
   "cell_type": "code",
   "execution_count": 13,
   "id": "12e8dea0-dbcb-46aa-8a3c-099b34655899",
   "metadata": {},
   "outputs": [
    {
     "name": "stdout",
     "output_type": "stream",
     "text": [
      "[0 1 2]\n",
      "[[0]\n",
      " [1]\n",
      " [2]]\n",
      "[0 1 2]\n",
      "[[0 1 2]\n",
      " [1 2 3]\n",
      " [2 3 4]]\n"
     ]
    }
   ],
   "source": [
    "#broadcast both arrays\n",
    "\n",
    "a=np.arange(3)\n",
    "print(a)\n",
    "a=a[:,np.newaxis]\n",
    "print(a)\n",
    "\n",
    "b=np.arange(3)\n",
    "print(b)\n",
    "\n",
    "print(a+b)"
   ]
  },
  {
   "cell_type": "code",
   "execution_count": 19,
   "id": "b6950797-b6fc-41c8-a7ef-5a77ee1fc4f1",
   "metadata": {},
   "outputs": [
    {
     "name": "stdout",
     "output_type": "stream",
     "text": [
      "[[1. 1.]\n",
      " [1. 1.]\n",
      " [1. 1.]]\n",
      "[0 1 2]\n"
     ]
    },
    {
     "ename": "ValueError",
     "evalue": "operands could not be broadcast together with shapes (3,2) (3,) ",
     "output_type": "error",
     "traceback": [
      "\u001b[1;31m---------------------------------------------------------------------------\u001b[0m",
      "\u001b[1;31mValueError\u001b[0m                                Traceback (most recent call last)",
      "\u001b[1;32m<ipython-input-19-ded5301aac21>\u001b[0m in \u001b[0;36m<module>\u001b[1;34m\u001b[0m\n\u001b[0;32m      6\u001b[0m \u001b[0mb\u001b[0m\u001b[1;33m=\u001b[0m\u001b[0mnp\u001b[0m\u001b[1;33m.\u001b[0m\u001b[0marange\u001b[0m\u001b[1;33m(\u001b[0m\u001b[1;36m3\u001b[0m\u001b[1;33m)\u001b[0m\u001b[1;33m\u001b[0m\u001b[1;33m\u001b[0m\u001b[0m\n\u001b[0;32m      7\u001b[0m \u001b[0mprint\u001b[0m\u001b[1;33m(\u001b[0m\u001b[0mb\u001b[0m\u001b[1;33m)\u001b[0m\u001b[1;33m\u001b[0m\u001b[1;33m\u001b[0m\u001b[0m\n\u001b[1;32m----> 8\u001b[1;33m \u001b[0mprint\u001b[0m\u001b[1;33m(\u001b[0m\u001b[0ma\u001b[0m\u001b[1;33m+\u001b[0m\u001b[0mb\u001b[0m\u001b[1;33m)\u001b[0m\u001b[1;33m\u001b[0m\u001b[1;33m\u001b[0m\u001b[0m\n\u001b[0m",
      "\u001b[1;31mValueError\u001b[0m: operands could not be broadcast together with shapes (3,2) (3,) "
     ]
    }
   ],
   "source": [
    "#broadcast rule imcompatible\n",
    "\n",
    "a=np.ones((3,2))\n",
    "print(a)\n",
    "\n",
    "b=np.arange(3)\n",
    "print(b)\n",
    "print(a+b)"
   ]
  },
  {
   "cell_type": "code",
   "execution_count": 23,
   "id": "3dc29cdd-8a44-4505-a739-c838878665ca",
   "metadata": {},
   "outputs": [
    {
     "name": "stdout",
     "output_type": "stream",
     "text": [
      "[False False  True False False]\n",
      "[False False False  True  True]\n"
     ]
    }
   ],
   "source": [
    "\"\"\"\n",
    "comparisons , Masks and boolean Logic\n",
    "\"\"\"\n",
    "\n",
    "x=np.array([1,2,3,4,5])\n",
    "print(x==3)\n",
    "print(x>3)"
   ]
  },
  {
   "cell_type": "code",
   "execution_count": 26,
   "id": "e335015e-9570-4619-a032-f03d1cdbbffc",
   "metadata": {},
   "outputs": [
    {
     "name": "stdout",
     "output_type": "stream",
     "text": [
      "[[5 0 3 3]\n",
      " [7 9 3 5]\n",
      " [2 4 7 6]]\n"
     ]
    }
   ],
   "source": [
    "#bool masking for multi-dimensional arrays\n",
    "\n",
    "np.random.seed(0)\n",
    "a = np.random.randint(10, size=(3,4))\n",
    "print(a)\n",
    "                    "
   ]
  },
  {
   "cell_type": "code",
   "execution_count": 32,
   "id": "8a31c4f6-72aa-4a08-8139-b2908f53ab7d",
   "metadata": {},
   "outputs": [
    {
     "name": "stdout",
     "output_type": "stream",
     "text": [
      "[[5 0 3 3]\n",
      " [7 9 3 5]\n",
      " [2 4 7 6]]\n",
      "8\n",
      "True\n",
      "False\n"
     ]
    }
   ],
   "source": [
    "print(a)\n",
    "print(np.count_nonzero(a<6))\n",
    "print(np.any(a>8))\n",
    "print(np.all(a>1))"
   ]
  },
  {
   "cell_type": "code",
   "execution_count": 36,
   "id": "98c8efe7-47c9-48b5-9564-04be75cad191",
   "metadata": {},
   "outputs": [
    {
     "name": "stdout",
     "output_type": "stream",
     "text": [
      "[[5 0 3 3]\n",
      " [7 9 3 5]\n",
      " [2 4 7 6]]\n",
      "[[False  True  True  True]\n",
      " [False False  True False]\n",
      " [ True  True False False]]\n",
      "[0 3 3 3 2 4]\n"
     ]
    }
   ],
   "source": [
    "#masking operations\n",
    "print(a)\n",
    "print(a<5)\n",
    "print(a[a<5])"
   ]
  },
  {
   "cell_type": "code",
   "execution_count": 40,
   "id": "6b7be602-2dbb-43f3-9a39-e35dfc1ed18a",
   "metadata": {},
   "outputs": [
    {
     "name": "stdout",
     "output_type": "stream",
     "text": [
      "[37 12 72  9 75  5 79 64 16  1]\n",
      "72 75 79\n",
      "[72 75 79]\n"
     ]
    }
   ],
   "source": [
    "\"\"\"\n",
    "fnacy indexing\n",
    "\"\"\"\n",
    "\n",
    "np.random.seed(1)\n",
    "x= np.random.randint(100,size=(10))\n",
    "print(x)\n",
    "\n",
    "a=x[2]; b=x[4]; c=x[6];\n",
    "print(a,b,c)\n",
    "\n",
    "ind =[2,4,6]\n",
    "print(x[ind])"
   ]
  },
  {
   "cell_type": "code",
   "execution_count": 45,
   "id": "81c2583d-6424-452c-b4fe-eb39c835b556",
   "metadata": {},
   "outputs": [
    {
     "name": "stdout",
     "output_type": "stream",
     "text": [
      "[[8 8 6 2 8]\n",
      " [7 2 1 5 4]\n",
      " [4 5 7 3 6]]\n",
      "[6 2 6]\n"
     ]
    }
   ],
   "source": [
    "#for n-d arrays\n",
    "np.random.seed(2)\n",
    "x= np.random.randint(10,size=(3,5))\n",
    "print(x)\n",
    "\n",
    "row=[0,1,2]\n",
    "col=[2,1,4]\n",
    "print(x[row,col])"
   ]
  },
  {
   "cell_type": "code",
   "execution_count": 48,
   "id": "e77d26d2-0218-49ed-8d20-9a0c31ca3d7d",
   "metadata": {},
   "outputs": [
    {
     "name": "stdout",
     "output_type": "stream",
     "text": [
      "[[8 8 6 2 8]\n",
      " [7 2 1 5 4]\n",
      " [4 5 7 3 6]]\n"
     ]
    },
    {
     "data": {
      "text/plain": [
       "array([[6, 8, 8],\n",
       "       [1, 2, 4],\n",
       "       [7, 5, 6]])"
      ]
     },
     "execution_count": 48,
     "metadata": {},
     "output_type": "execute_result"
    }
   ],
   "source": [
    "#with broad casting\n",
    "\n",
    "print(x)\n",
    "\n",
    "row = np.array([0,1,2])\n",
    "col = np.array([2,1,4])\n",
    "x[row[:,np.newaxis],col]"
   ]
  },
  {
   "cell_type": "code",
   "execution_count": 51,
   "id": "27bf5e6c-8a89-45cf-9a0e-d75581ec4e8e",
   "metadata": {},
   "outputs": [
    {
     "name": "stdout",
     "output_type": "stream",
     "text": [
      "[[ 1  2  3  4]\n",
      " [ 5  6  7  8]\n",
      " [ 9 10 11 12]]\n",
      "[11  9 10]\n",
      "[[ 7  5  6]\n",
      " [11  9 10]]\n"
     ]
    }
   ],
   "source": [
    "#combined indexing\n",
    "x=np.arange(1,13).reshape(3,4)\n",
    "print(x)\n",
    "\n",
    "ind = [2,0,1]\n",
    "print(x[2,ind])\n",
    "print(x[1:,ind])\n"
   ]
  }
 ],
 "metadata": {
  "kernelspec": {
   "display_name": "Python 3",
   "language": "python",
   "name": "python3"
  },
  "language_info": {
   "codemirror_mode": {
    "name": "ipython",
    "version": 3
   },
   "file_extension": ".py",
   "mimetype": "text/x-python",
   "name": "python",
   "nbconvert_exporter": "python",
   "pygments_lexer": "ipython3",
   "version": "3.8.8"
  }
 },
 "nbformat": 4,
 "nbformat_minor": 5
}
