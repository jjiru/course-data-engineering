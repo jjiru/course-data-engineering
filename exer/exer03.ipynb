{
 "cells": [
  {
   "cell_type": "code",
   "execution_count": 9,
   "id": "c5072299-2ab9-438d-b2ae-adf8eb470e94",
   "metadata": {},
   "outputs": [
    {
     "name": "stdout",
     "output_type": "stream",
     "text": [
      "[2, 3, 5, 7, 11, 2]\n",
      "[]\n"
     ]
    }
   ],
   "source": [
    "\"\"\"\n",
    "Lists\n",
    "\"\"\"\n",
    "\n",
    "primes = [2, 3, 5, 7, 11, 2]\n",
    "print(primes)\n",
    "\n",
    "empty_list = []\n",
    "print(empty_list)"
   ]
  },
  {
   "cell_type": "code",
   "execution_count": 14,
   "id": "d67628a7-ee76-45a1-bec0-7031854689ae",
   "metadata": {},
   "outputs": [
    {
     "name": "stdout",
     "output_type": "stream",
     "text": [
      "['jin', 1, 1.4, True]\n",
      "[['a', 1], ['b', 2]]\n"
     ]
    }
   ],
   "source": [
    "\"\"\"\n",
    "Multipe different data types\n",
    "\"\"\"\n",
    "mixed = ['jin', 1, 1.4, True]\n",
    "print(mixed)\n",
    "\n",
    "list_of_lists = [['a', 1 ],['b',2]]\n",
    "print(list_of_lists)"
   ]
  },
  {
   "cell_type": "code",
   "execution_count": 22,
   "id": "b8b7ef87-3e43-4079-9896-65051ac3b0c2",
   "metadata": {},
   "outputs": [
    {
     "name": "stdout",
     "output_type": "stream",
     "text": [
      "son\n",
      "boom\n",
      "boom\n",
      "park\n",
      "kane\n"
     ]
    }
   ],
   "source": [
    "\"\"\"\n",
    "Zero_indexing & Negative indexing\n",
    "\"\"\"\n",
    "\n",
    "names = ['son', 'kane', 'park', 'boom']\n",
    "\n",
    "print(names[0])\n",
    "print(names[3])\n",
    "print(names[-1])\n",
    "print(names[-2])\n",
    "print(names[-3])"
   ]
  },
  {
   "cell_type": "code",
   "execution_count": 28,
   "id": "10b46146-c54b-423a-9d67-168401030c03",
   "metadata": {},
   "outputs": [
    {
     "name": "stdout",
     "output_type": "stream",
     "text": [
      "['동아', '풍림', '원흥', '태산', '현광', '정광']\n",
      "['sk', '원흥', '태산']\n",
      "['동아', '풍림', '원흥', '태산']\n"
     ]
    }
   ],
   "source": [
    "\"\"\"\n",
    "List slicing\n",
    "\"\"\"\n",
    "\n",
    "hacic_apartment = ['동아', '풍림', '원흥', '태산', '현광', '정광']\n",
    "building_slice = hacic_apartment[1:4] # 독립적인 객체\n",
    "building_slice2 = hacic_apartment[:4]\n",
    "\n",
    "building_slice[0] = 'sk'\n",
    "\n",
    "print(hacic_apartment)\n",
    "print(building_slice)\n",
    "print(building_slice2)"
   ]
  },
  {
   "cell_type": "code",
   "execution_count": 35,
   "id": "cbe43766-4157-42e6-a243-66095afb527d",
   "metadata": {},
   "outputs": [
    {
     "name": "stdout",
     "output_type": "stream",
     "text": [
      "[['해우리', '한식', '고S'], ['짜장명가', '중식', '중화비빔밥'], ['찌개동아리', '한식', '제육전골'], ['맘스터치', '양식', '싸이버거']]\n",
      "중화비빔밥\n",
      "['청해루', '중식', '중화비빔밥']\n"
     ]
    }
   ],
   "source": [
    "\"\"\"\n",
    "Multi-dimensional Lists\n",
    "\"\"\"\n",
    "\n",
    "restaurants = [['해우리', '한식', '고S'],['짜장명가', '중식', '중화비빔밥'],\n",
    "              ['찌개동아리', '한식', '제육전골'],['맘스터치', '양식', '싸이버거']]\n",
    "\n",
    "print(restaurants)\n",
    "print(restaurants[1][2])\n",
    "\n",
    "restaurants[1][0] = '청해루'\n",
    "\n",
    "print(restaurants[1][:])"
   ]
  },
  {
   "cell_type": "code",
   "execution_count": 40,
   "id": "c18045bb-958b-4e9e-96c9-af9fbb1a8a9f",
   "metadata": {},
   "outputs": [
    {
     "name": "stdout",
     "output_type": "stream",
     "text": [
      "['cake', 'cookie', 'bread', 'biscuit', 'tart']\n"
     ]
    }
   ],
   "source": [
    "\"\"\"\n",
    "Adding Lists Together\n",
    "\"\"\"\n",
    "\n",
    "food_one = ['cake', 'cookie', 'bread']\n",
    "food_two = ['biscuit', 'tart']\n",
    "\n",
    "total_food = food_one + food_two\n",
    "print(total_food)"
   ]
  },
  {
   "cell_type": "code",
   "execution_count": 54,
   "id": "a2c4543b-788b-4bb1-875d-7ca9e01ba851",
   "metadata": {},
   "outputs": [
    {
     "name": "stdout",
     "output_type": "stream",
     "text": [
      "5\n",
      "3\n",
      "['daisies', 'periwinkle', 'tulips']\n",
      "['Karla', 'Maxium', 'Martim', 'Vikor', 'Isabella']\n",
      "['C Programing', 'Calculus', 'Data Structures', 'Machine Learning']\n",
      "['C Programing', 'Calculus', 'Data Structures']\n",
      "['C Programing', 'Data Structures']\n",
      "[1, 2, 3, 4]\n",
      "['동아', '원흥', '정광', '태산', '풍림', '현광']\n",
      "[1, 2, 3, 4]\n"
     ]
    }
   ],
   "source": [
    "\"\"\"\n",
    "Useful Methods for Lists\n",
    "\"\"\"\n",
    "\n",
    "# len()\n",
    "knapsack = [1, 2, 3, 4, 5]\n",
    "size = len(knapsack)\n",
    "print(size)\n",
    "\n",
    "# count()\n",
    "backpack = ['pencil','pen','notenook','textbook','pen','book','pen']\n",
    "numpen = backpack.count('pen')\n",
    "print(numpen)\n",
    "\n",
    "# append()\n",
    "\n",
    "orders = ['daisies', 'periwinkle']\n",
    "orders.append('tulips')\n",
    "print(orders)\n",
    "\n",
    "# insert()\n",
    "\n",
    "store_line = ['Karla', 'Maxium', 'Martim', 'Isabella']\n",
    "store_line.insert(3,'Vikor')\n",
    "print(store_line) \n",
    "\n",
    "# pop()\n",
    "sw_subjects = ['C Programing', 'Calculus', 'Data Engineering', 'Data Structures', 'Machine Learning']\n",
    "sw_subjects.pop(2)\n",
    "print(sw_subjects)\n",
    "sw_subjects.pop()\n",
    "print(sw_subjects)\n",
    "\n",
    "# remove()\n",
    "sw_subjects.remove('Calculus')\n",
    "print(sw_subjects)\n",
    "\"\"\"\n",
    "sw_subjects.remove('Algorithms') # 없는걸 제거 하려고 하면 에러가 난다\n",
    "print(sw_subjects)\n",
    "\"\"\"\n",
    "\n",
    "# sort()\n",
    "number = [4, 2, 1, 3]\n",
    "number.sort()\n",
    "print(number)\n",
    "\n",
    "hacic_apartment = ['동아', '풍림', '원흥', '태산', '현광', '정광']\n",
    "hacic_apartment.sort()\n",
    "print(hacic_apartment)\n",
    "\n",
    "# sorted()\n",
    "\n",
    "numbers = [4, 3, 2, 1]\n",
    "sorted_numbers = sorted(numbers)\n",
    "print(sorted_numbers)\n",
    "\n",
    "\n",
    "\n"
   ]
  }
 ],
 "metadata": {
  "kernelspec": {
   "display_name": "Python 3",
   "language": "python",
   "name": "python3"
  },
  "language_info": {
   "codemirror_mode": {
    "name": "ipython",
    "version": 3
   },
   "file_extension": ".py",
   "mimetype": "text/x-python",
   "name": "python",
   "nbconvert_exporter": "python",
   "pygments_lexer": "ipython3",
   "version": "3.8.8"
  }
 },
 "nbformat": 4,
 "nbformat_minor": 5
}
