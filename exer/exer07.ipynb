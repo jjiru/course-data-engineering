{
 "cells": [
  {
   "cell_type": "code",
   "execution_count": 4,
   "id": "eb0cfa9e-8d3a-486b-8579-0ae45b37b263",
   "metadata": {},
   "outputs": [
    {
     "name": "stderr",
     "output_type": "stream",
     "text": [
      "Matplotlib is building the font cache; this may take a moment.\n"
     ]
    }
   ],
   "source": [
    "import numpy as np\n",
    "import pandas as pd\n",
    "from matplotlib import pyplot as plt"
   ]
  },
  {
   "cell_type": "code",
   "execution_count": 9,
   "id": "14cb3f38-96f6-4ccb-a80b-ca1c9645b0ff",
   "metadata": {},
   "outputs": [
    {
     "name": "stdout",
     "output_type": "stream",
     "text": [
      "[1 2 3 4]\n",
      "<class 'numpy.ndarray'>\n",
      "int32\n"
     ]
    }
   ],
   "source": [
    "#creating a numpy array\n",
    "\n",
    "lst = [1, 2, 3, 4]\n",
    "\n",
    "arr = np.array(lst)\n",
    "print(arr)\n",
    "print(type(arr))"
   ]
  },
  {
   "cell_type": "code",
   "execution_count": 14,
   "id": "dc46a7a8-06e7-44bf-bf6e-cdcfdbda5f62",
   "metadata": {},
   "outputs": [
    {
     "name": "stdout",
     "output_type": "stream",
     "text": [
      "float64\n",
      "int32\n",
      "<U13\n",
      "<U32\n"
     ]
    }
   ],
   "source": [
    "#dtype attribute\n",
    "lst = [1.2, 1.3, 1.4]\n",
    "arr = np.array(lst)\n",
    "print(arr.dtype)\n",
    "\n",
    "lst = [1, 2, 3]\n",
    "arr = np.array(lst)\n",
    "print(arr.dtype)\n",
    "\n",
    "lst = ['1.2, 1.3, 1.4']\n",
    "arr = np.array(lst)\n",
    "print(arr.dtype)\n",
    "\n",
    "lst = [1, 1.2, '1.2, 1.3, 1.4'] #u는 데이터타입이 짬뽕이라는걸 뜻함 \n",
    "arr = np.array(lst)\n",
    "print(arr.dtype)"
   ]
  },
  {
   "cell_type": "code",
   "execution_count": 24,
   "id": "f6c8222f-2bd2-43a7-940b-03e22cc61f03",
   "metadata": {},
   "outputs": [
    {
     "name": "stdout",
     "output_type": "stream",
     "text": [
      "176\n",
      "164\n"
     ]
    }
   ],
   "source": [
    "\"\"\"\n",
    "size comparsion of ndarray and list objects\n",
    "\"\"\"\n",
    "# getsizeof 를 통해 메모리 차지하는 공간비교\n",
    "#처음에 비어있을때는 arr이 더 크지만 넣으면 넣을수록 메모리 차지하는 공간이 lst이 차지하는 공간이 더 커진다.\n",
    "from sys import getsizeof\n",
    "\n",
    "lst = [1,2,3,4,5,6,7,8,9,10,11,12,13,14,15] #56 -> 64\n",
    "print(getsizeof(lst))\n",
    "\n",
    "arr = np.array([1,2,3,4,5,6,7,8,9,10,11,12,13,14,15]) # 104 -> 108\n",
    "print(getsizeof(arr))"
   ]
  },
  {
   "cell_type": "code",
   "execution_count": 30,
   "id": "db3f4100-31ec-4234-aa18-fc551d263298",
   "metadata": {},
   "outputs": [
    {
     "name": "stdout",
     "output_type": "stream",
     "text": [
      "[25, 20, 28, 15, 10, 73]\n",
      "[25 20 28 15 10 73]\n"
     ]
    }
   ],
   "source": [
    "\"\"\"\n",
    "operations with numpy arrays\n",
    "\"\"\"\n",
    "\n",
    "prices = [30,25,33,20,15,78]\n",
    "prices_arr = np.array(prices)\n",
    "#with a list\n",
    "new_prices = [price-5 for price in prices]\n",
    "print(new_prices)\n",
    "\n",
    "#with a nbarray\n",
    "prices_arr -= 5\n",
    "print(prices_arr)"
   ]
  },
  {
   "cell_type": "code",
   "execution_count": 46,
   "id": "bc394427-ebd7-4536-92e0-e04ade653a74",
   "metadata": {},
   "outputs": [
    {
     "name": "stdout",
     "output_type": "stream",
     "text": [
      "[89 87 74 92 94]\n",
      "[260 281 248 276 272]\n",
      "[86.66666667 93.66666667 82.66666667 92.         90.66666667]\n",
      "[[ 92  94  88  91  87]\n",
      " [ 79 100  86  93  91]\n",
      " [ 89  87  74  92  94]]\n",
      "93\n",
      "[94 88]\n",
      "[87 91 94]\n",
      "[87 91 94]\n"
     ]
    }
   ],
   "source": [
    "\"\"\"\n",
    "operations with Test Scores\n",
    "\"\"\"\n",
    "\n",
    "test_1 = np.array([92, 94, 88, 91, 87])\n",
    "test_2 = np.array([79, 100, 86, 93, 91])\n",
    "test_3 = np.array([87, 85, 72, 90, 92])\n",
    "\n",
    "test_3_fixed = test_3 + 2\n",
    "print(test_3_fixed)\n",
    "\n",
    "total_grade = test_1 + test_2 + test_3_fixed\n",
    "print(total_grade)\n",
    "\n",
    "final_grade = total_grade / 3\n",
    "print(final_grade)\n",
    "\n",
    "student_scores = np.array([test_1, test_2, test_3_fixed])   #2차원 배열로 묶기\n",
    "print(student_scores) \n",
    "\n",
    "jeremey_test_2 = student_scores[1, 3]\n",
    "print(jeremey_test_2)\n",
    "\n",
    "manual_adwoa_test_1 = np.array([student_scores[0, 1] ,student_scores[0, 2]])\n",
    "print(manual_adwoa_test_1)\n",
    "\n",
    "print(student_scores[:,4])\n",
    "print(student_scores[:,-1])          "
   ]
  },
  {
   "cell_type": "code",
   "execution_count": 54,
   "id": "1b78f02d-79b4-4691-92d7-7354b1292e30",
   "metadata": {},
   "outputs": [
    {
     "name": "stdout",
     "output_type": "stream",
     "text": [
      "[ True False False False False  True  True]\n",
      "[10  8  7]\n",
      "[10  2  2  8  7]\n",
      "[4 5 7]\n"
     ]
    }
   ],
   "source": [
    "\"\"\"\n",
    "logical operations with arrays\n",
    "\"\"\"\n",
    "# masking\n",
    "a = np.array([10,2,2,4,5,8,7])\n",
    "mask = a>5\n",
    "print(mask)\n",
    "\n",
    "# selecting using logical operations '&' , '|'\n",
    "selected = a[a>5]\n",
    "print(selected)\n",
    "\n",
    "#combined logical operations\n",
    "\n",
    "selected = a[(a>5) | (a<4)]\n",
    "print(selected)\n",
    "\n",
    "selected = a[(a>3) & (a<8)]\n",
    "print(selected)"
   ]
  },
  {
   "cell_type": "code",
   "execution_count": 59,
   "id": "da0ec72d-170e-4a19-bde8-18b50bafa65d",
   "metadata": {},
   "outputs": [
    {
     "name": "stdout",
     "output_type": "stream",
     "text": [
      "[50 56 51]\n",
      "[90 85 98]\n",
      "[79 65 63 79]\n"
     ]
    }
   ],
   "source": [
    "\"\"\"\n",
    "Exercise\n",
    "\"\"\"\n",
    "porridge = np.array([79, 65, 50, 63, 56, 90, 85, 98, 79, 51])\n",
    "\n",
    "cold = porridge[porridge<60]\n",
    "print(cold)\n",
    "hot = porridge[porridge>80]\n",
    "print(hot)\n",
    "just_right = porridge[(porridge>=60) & (porridge<=80)]\n",
    "print(just_right)"
   ]
  }
 ],
 "metadata": {
  "kernelspec": {
   "display_name": "Python 3",
   "language": "python",
   "name": "python3"
  },
  "language_info": {
   "codemirror_mode": {
    "name": "ipython",
    "version": 3
   },
   "file_extension": ".py",
   "mimetype": "text/x-python",
   "name": "python",
   "nbconvert_exporter": "python",
   "pygments_lexer": "ipython3",
   "version": "3.8.8"
  }
 },
 "nbformat": 4,
 "nbformat_minor": 5
}
